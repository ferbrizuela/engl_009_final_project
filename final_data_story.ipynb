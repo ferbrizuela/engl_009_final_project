{
 "cells": [
  {
   "cell_type": "markdown",
   "metadata": {},
   "source": [
    "![](./photo_folder/cover_photo.jpg)"
   ]
  },
  {
   "cell_type": "markdown",
   "metadata": {},
   "source": [
    "Image by [Albumism](https://www.albumism.com/polls/what-are-your-favorite-taylor-swift-albums)"
   ]
  },
  {
   "cell_type": "markdown",
   "metadata": {},
   "source": [
    "# Changing Perceptions of Female Artists: Taylor Swift's Discography\n",
    "## By Fernanda Brizuela"
   ]
  },
  {
   "cell_type": "markdown",
   "metadata": {},
   "source": [
    "Taylor Swift has been a major player in the music industry since 2006, when she released her debut album _Taylor Swift_. Since then, she has released an additional 8 albums, until her most recent release in December of 2020, _evermore_.\n",
    "\n",
    "Since the success of her initial albums, Swift was thrust into the public eye. This has led to endless public scrutiny, both in terms of her musical talent and personal life. \n",
    "\n",
    "Throughout her musical career, Swift has reinvented herself multiple times. She initially started releasing music that aligned more with the country genre, and has since migrated to pop, and now a more \"indie\" sound. \n",
    "\n",
    "### Reasons to Pursue this Project\n",
    "\n",
    "I decided to look into this subject because I am an avid music listened and consider myself a fan of various artists, one of them being Taylor Swift. I was interested in exploring the ways in which her music has changed throughout her career. \n",
    "\n",
    "### Research Question and Hypothesis\n",
    "\n",
    "For this project, I wanted to answer whether Taylor Swift's lyrics and music have changed throughout the years and whether critical perception of her has changed throughout the years.\n",
    "\n",
    "My hypothesis was that her music has significantly changed throughout the years and this is perceptible through her lyrics. To look into this, I planned to analyze quantitative metrics such as: average word count, type-token-ratio, common words, and frequency of target words. \n",
    "\n",
    "Additionally, I wanted to support my research with a qualitative analysis of [Pitchfork's](https://pitchfork.com/artists/28495-taylor-swift/) Taylor Swift album reviews.\n",
    "\n",
    "### Data\n",
    "\n",
    "For my data, I used the Genius API to build a corpora of Taylor Swift lyrics. I then divided the lyrics into three groups: Era 1, Era 2, and Era 3 based on the timeline in which she released her albums and their general \"sound.\"\n",
    "\n",
    "Era 1 consists of song lyrics from _Taylor Swift,_ _Fearless,_ and _Speak Now_. These three albums are from when country was her main genre. Era 2 consists of _Red,_ _1989,_ _Reputation,_ and _Lover_. These four albums are from when she made a shift to a more \"pop\" sound. Lastly, Era 3 consists of _folklore_ and _evermore_. These are her last two releases, which are considered to be more \"indie.\" \n",
    "\n",
    "The sound of these albums was both determined through personal experience of listening to the album, and also Pitchfork reviews. \n",
    "\n",
    "Through the Genius API I was able to build my corpora, which consisted of lists with dictionaries—each dictionary being a song. I had to clean my data to strip the lyrics of any special characters, as well as tokenize the lyrics to be able to analyze individual words and look into word frequency. \n",
    "\n",
    "The raw data files, clean files, as well as the workbooks in which I built my corpora and cleaned the data can be found under the data folder.\n",
    "\n",
    "### Methodology \n",
    "\n",
    "My steps to analyze the data can be found under the data analysis folder in this repository. I created individual folders for each era. \n",
    "\n",
    "First, I conducted a general analysis. I looked into the most common words, word frequency, created a list of \"target words\" and made visualizations of their frequency, calculated average word count, and calculated the type-token ratio. \n",
    "\n",
    "Secondly, I did a \"Key Word In Context\" (KWIC) analysis for each corpus to look into the context in which certain words were used. \n",
    "\n",
    "Lastly, I created an additional workbook to conduct a \"keyness analysis\" to see which words were more unique for one corpus when compared to a second corpus, and figure out which words I wanted to look into. The keyness analysis will not be used in the data story (this file), but it was helpful in figuring out which words were significant enough to further look into.\n",
    "\n",
    "### Findings\n",
    "\n",
    "__word count and type-token-ratio__<br>\n",
    "For my first analysis, I wanted to look into the complexity of lyrics by looking at word count. Based on the genres of the eras, I expected Era 3 to be the most complex because of how much her lyricism has evolved, Era 1 to be in the middle, and Era 3 to be the least complex because of the pop sound. "
   ]
  },
  {
   "cell_type": "markdown",
   "metadata": {},
   "source": [
    "![](./photo_folder/word_cnt.png)"
   ]
  },
  {
   "cell_type": "markdown",
   "metadata": {},
   "source": [
    "Initially, I was surprised to see my results. Era 2 was the one with the highest word count, and Era 3 with the lowest—opposite to what I expected. However, I soon realized that a better metric for this would actually be type-token-ratio (TTR). A higher word count can make sense for the more \"pop\"-sounding era, since popular music tends to be more catchy and repetitive. But, if there are more words, does this mean the lyrics are more complex?\n"
   ]
  },
  {
   "cell_type": "markdown",
   "metadata": {},
   "source": [
    "![](./photo_folder/ttr.png)"
   ]
  },
  {
   "cell_type": "markdown",
   "metadata": {},
   "source": [
    "With the chart above, it's noticeable that Era 3 has a higher TTR than Era 2. The closer a TTR gets to 1, the greater its lexical richness. Therefore, there is more complexity in the lyrics of Era 3. Despite the fact that Era 2 has an average word count of around 425, the TTR is only 0.31. On the other hand, Era 3 has an average word count of around 330, with an average TTR of 0.41. \n",
    "\n",
    "It is not expected that the TTR of these texts is extremely high since songs are naturally repetitive. "
   ]
  },
  {
   "cell_type": "markdown",
   "metadata": {},
   "source": [
    "__Target Words__<br>\n",
    "To look into the ways word usage has changed throughout the years, I decided to look into a list of \"target words.\" \n",
    "\n",
    "These are: you, I, me, love, baby, break, lover, kiss, truck, mama, heart, friends, friend, new, home, bad, can't, alone, and know. \n",
    "\n",
    "I chose these to see how song theme has changed, as well as indicators of specific genres, such as \"truck\" and \"mama\" indicating country, as well as \"baby\" indicating pop. \n",
    "\n",
    "Through the Pitchfork reviews, I also found that Taylor Swift's music has changed from autobiographical to more fictional. I wanted to see if words indicating the first person would decrease throughout the years. \n",
    "\n",
    "Here are visualizations of the occurrence of the target words in each corpus. Note, these visuals do not represent total word frequency, but the amount of songs in which these words appear. \n",
    "\n",
    "For context, here are the song counts for each era: \n",
    "* Era 1: 43\n",
    "* Era 2: 65\n",
    "* Era 3: 27"
   ]
  },
  {
   "cell_type": "markdown",
   "metadata": {},
   "source": [
    "![](./photo_folder/tw_e1.png)"
   ]
  },
  {
   "cell_type": "markdown",
   "metadata": {},
   "source": [
    "Here, we can see that in her \"country\" phase, words such as \"mama\" and \"truck\" are indicators of this sound. Additionally, the word \"I\" occurs in all of the songs in her most autobiographical era."
   ]
  },
  {
   "cell_type": "markdown",
   "metadata": {},
   "source": [
    "![](./photo_folder/tw_e2.png)"
   ]
  },
  {
   "cell_type": "markdown",
   "metadata": {},
   "source": [
    "I was surprised to find that the distribution for the occurrences of these words in Era 2 was very similar to Era 1, despite the fact that there are more songs in Era 2. "
   ]
  },
  {
   "cell_type": "markdown",
   "metadata": {},
   "source": [
    "![](./photo_folder/tw_e3.png)"
   ]
  },
  {
   "cell_type": "markdown",
   "metadata": {},
   "source": [
    "Despite the fact that _folklore_ and _evermore_ are the most sonically different albums in comparison to the rest of her repertoire, I found that the distribution of these \"target words\" was pretty similar throughout the years. Even though her music has become less autobiographical and more fictional, she continues to use first person pronouns such as \"I\" and \"me.\" This can indicate that, even though she is no longer necessarily telling stories about her personal experiences, she continues to use the first person. \n",
    "\n",
    "This is exemplified in the song \"betty\" on _folklore_, which is told in the perspective of a fictional character, James. Even though this may not signify a moment in Swift's life, she tells the story as if she had lived through it. \n",
    "\n",
    "The fact that her word usage isn't significantly changing may show that, even though her sound is evolving, she continues to tell stories in a similar fashion. This is supported by Jillian Mapes' [review](https://pitchfork.com/reviews/albums/taylor-swift-folklore/) of _folklore._ \n",
    "\n",
    "In the article, Mapes says: \"At its best, folklore asserts something that has been true from the start of Swift’s career: Her biggest strength is her storytelling, her well-honed songwriting craft meeting the vivid whimsy of her imagination; the music these stories are set to is subject to change, so long as it can be rooted in these traditions. You can tell that this is what drives Swift by the way she molds her songs: cramming specific details into curious cadences, bending the lines to her will.\"\n",
    "\n",
    "She points out that, despite the fact that Swift's music may be evolving sonically, her traditional storytelling skill—although getting stronger—are what drive her music. This supports that even though there may not be evidence of significant changes in the words she uses frequently, this does not rule out a change in her music. \n",
    "\n",
    "Finally, I was interested in using my KWIC analysis to look into the use of the word \"love.\" Swift is known for writing about her experience with relationships, so I wanted to see how the context in which she talks about love has changed. \n",
    "\n",
    "Based on word frequency, she has started using \"love\" less frequency. \n",
    "\n",
    "This is the frequency of the word in each era: \n",
    "* Era 1: Appears 57 times, in 21/43 songs (almost 50%)\n",
    "* Era 2: Appears 173 times, in 31/65 songs (almost 50%)\n",
    "* Era 3: Appears 29 times, in 8/27 songs (almost 30%)\n",
    "\n",
    "So the word itself does occur less in Era 3. Here are some of the contexts in which it was used: \n",
    "\n",
    "### Era 1\n",
    "![](./photo_folder/love_e1.png)"
   ]
  },
  {
   "cell_type": "markdown",
   "metadata": {},
   "source": [
    "In era 1, love frequently occurs with the word \"I\" referring to her own personal relationships. It also occurs with \"in\" talking about being \"in love.\" In all of these cases, the word love is in a relationship and seems to be idealized in some way. "
   ]
  },
  {
   "cell_type": "markdown",
   "metadata": {},
   "source": [
    "### Era 2\n",
    "![](./photo_folder/love_e2_1.png)\n",
    "![](./photo_folder/love_e2_2.png)"
   ]
  },
  {
   "cell_type": "markdown",
   "metadata": {},
   "source": [
    "In Era 2, there are some occurrences of love in the same context as Era 1. However, there also seem to be related to her own experience with love and past relationships—instead of talking about being _in_ love. She talks about what she believed love to be like, and what love has done in the past."
   ]
  },
  {
   "cell_type": "markdown",
   "metadata": {},
   "source": [
    "### Era 3\n",
    "![](./photo_folder/love_e3.png)"
   ]
  },
  {
   "cell_type": "markdown",
   "metadata": {},
   "source": [
    "In Era 3, she uses love much less frequently. I found this interesting because in Era 3 she seems to refer to love as a concept. She talks about \"a love,\" love that \"slipped,\" and love \"shining.\" She seems to almost personify it. \n",
    "\n"
   ]
  },
  {
   "cell_type": "markdown",
   "metadata": {},
   "source": [
    "### Conclusions\n",
    "\n",
    "I found that, through my quantitative analysis, Swift's music has changed throughout time. I concluded this based on the type-to-token ratio analysis, KWIC analysis of words, and the qualitative points in the Pitchfork reviews. \n",
    "\n",
    "This project was definitely challenging, especially the aspect of trying to analyze lyrics and stories. However, I found it rewarding that I was able to conduct these analysis with the help of Python. It was satisfying to have the opportunity to build my own corpus and manipulate the text to find patterns in her lyrics. \n",
    "\n",
    "Additionally, it was extremely interesting to work through my project thinking about the concepts we learned in class, and employing some of the techniques we learned—such as TTR, manipulating data, and creating helpful visualizations. \n",
    "\n",
    "Even though this was a synthesized version of my analysis, there is much more to explore in the rest of the folders in this repository. Thank you for taking the time to look through my project, I hope you enjoy reading through it as much as I enjoyed working on it. Thanks for this great semester! "
   ]
  }
 ],
 "metadata": {
  "kernelspec": {
   "display_name": "Python 3",
   "language": "python",
   "name": "python3"
  },
  "language_info": {
   "codemirror_mode": {
    "name": "ipython",
    "version": 3
   },
   "file_extension": ".py",
   "mimetype": "text/x-python",
   "name": "python",
   "nbconvert_exporter": "python",
   "pygments_lexer": "ipython3",
   "version": "3.7.3"
  }
 },
 "nbformat": 4,
 "nbformat_minor": 2
}
