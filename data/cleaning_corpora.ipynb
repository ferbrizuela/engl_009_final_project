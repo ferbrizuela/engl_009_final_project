{
 "cells": [
  {
   "cell_type": "markdown",
   "metadata": {},
   "source": [
    "# Cleaning Data\n",
    "In this notebook I will be:\n",
    "* Cleaning the data in each era\n",
    "* Stripping the text of special characters to make it readable\n",
    "* Tokenizing the lyrics to make them analyzable\n",
    "* Adding a token key to the dictionary of each song to have them in the cleaned data files"
   ]
  },
  {
   "cell_type": "code",
   "execution_count": 3,
   "metadata": {},
   "outputs": [],
   "source": [
    "import pandas as pd\n",
    "import os\n",
    "import re\n",
    "import json\n",
    "import requests\n",
    "import random\n",
    "from bs4 import BeautifulSoup\n",
    "import lyricsgenius\n",
    "from collections import Counter"
   ]
  },
  {
   "cell_type": "code",
   "execution_count": 5,
   "metadata": {},
   "outputs": [],
   "source": [
    "%run functions.ipynb"
   ]
  },
  {
   "cell_type": "code",
   "execution_count": 6,
   "metadata": {},
   "outputs": [],
   "source": [
    "raw_era_1 = json.load(open('../data/era_1.json'))"
   ]
  },
  {
   "cell_type": "code",
   "execution_count": 13,
   "metadata": {},
   "outputs": [],
   "source": [
    "#stripping special characters in era 1\n",
    "def strip_section_markers(text):\n",
    "    line_by_line = []\n",
    "    lines = text.split('\\n')\n",
    "    \n",
    "    for line in lines: \n",
    "        if not line.startswith('['):\n",
    "            line_by_line.append(line)\n",
    "    updated_text = '\\n'.join(line_by_line)\n",
    "    \n",
    "    return updated_text"
   ]
  },
  {
   "cell_type": "code",
   "execution_count": 14,
   "metadata": {},
   "outputs": [],
   "source": [
    "#tokenizing lyrics\n",
    "for item in raw_era_1:\n",
    "    if item.get('lyrics'):\n",
    "        stripped_lines = strip_section_markers(item['lyrics'])\n",
    "        tokenized_lines = tokenize(stripped_lines, lowercase=True, strip_chars='.,!)\\(')\n",
    "        item['tokens'] = tokenized_lines"
   ]
  },
  {
   "cell_type": "code",
   "execution_count": 15,
   "metadata": {},
   "outputs": [],
   "source": [
    "for x in range(len(raw_era_1)):\n",
    "    song_1 = raw_era_1[x]['tokens']\n",
    "    raw_era_1[x]['tokens'] = [x.replace('-',' ') for x in song_1]"
   ]
  },
  {
   "cell_type": "code",
   "execution_count": 16,
   "metadata": {},
   "outputs": [],
   "source": [
    "import json\n",
    "with open('clean_era_1.json', 'w') as f:\n",
    "    json.dump(raw_era_1, f)"
   ]
  },
  {
   "cell_type": "markdown",
   "metadata": {},
   "source": [
    "## Cleaning Era 2"
   ]
  },
  {
   "cell_type": "code",
   "execution_count": 17,
   "metadata": {},
   "outputs": [],
   "source": [
    "raw_era_2 = json.load(open('../data/era_2.json'))"
   ]
  },
  {
   "cell_type": "code",
   "execution_count": 18,
   "metadata": {},
   "outputs": [],
   "source": [
    "#stripping special characters in the era 2\n",
    "def strip_section_markers(text):\n",
    "    line_by_line = []\n",
    "    lines = text.split('\\n')\n",
    "    \n",
    "    for line in lines: \n",
    "        if not line.startswith('['):\n",
    "            line_by_line.append(line)\n",
    "    updated_text = '\\n'.join(line_by_line)\n",
    "    \n",
    "    return updated_text"
   ]
  },
  {
   "cell_type": "code",
   "execution_count": 20,
   "metadata": {},
   "outputs": [],
   "source": [
    "#tokenizing lyrics\n",
    "for item in raw_era_2:\n",
    "    if item.get('lyrics'):\n",
    "        stripped_lines = strip_section_markers(item['lyrics'])\n",
    "        tokenized_lines = tokenize(stripped_lines, lowercase=True, strip_chars='.,!)\\(')\n",
    "        item['tokens'] = tokenized_lines"
   ]
  },
  {
   "cell_type": "code",
   "execution_count": 21,
   "metadata": {},
   "outputs": [],
   "source": [
    "for x in range(len(raw_era_2)):\n",
    "    song_1 = raw_era_2[x]['tokens']\n",
    "    raw_era_2[x]['tokens'] = [x.replace('-',' ') for x in song_1]"
   ]
  },
  {
   "cell_type": "code",
   "execution_count": 23,
   "metadata": {},
   "outputs": [],
   "source": [
    "import json\n",
    "with open('clean_era_2.json', 'w') as f:\n",
    "    json.dump(raw_era_2, f)"
   ]
  },
  {
   "cell_type": "markdown",
   "metadata": {},
   "source": [
    "## Cleaning Era 3"
   ]
  },
  {
   "cell_type": "code",
   "execution_count": 24,
   "metadata": {},
   "outputs": [],
   "source": [
    "raw_era_3 = json.load(open('../data/era_3.json'))"
   ]
  },
  {
   "cell_type": "code",
   "execution_count": 25,
   "metadata": {},
   "outputs": [],
   "source": [
    "#stripping special characters in era 3\n",
    "def strip_section_markers(text):\n",
    "    line_by_line = []\n",
    "    lines = text.split('\\n')\n",
    "    \n",
    "    for line in lines: \n",
    "        if not line.startswith('['):\n",
    "            line_by_line.append(line)\n",
    "    updated_text = '\\n'.join(line_by_line)\n",
    "    \n",
    "    return updated_text"
   ]
  },
  {
   "cell_type": "code",
   "execution_count": 26,
   "metadata": {},
   "outputs": [],
   "source": [
    "#tokenizing lyrics\n",
    "for item in raw_era_3:\n",
    "    if item.get('lyrics'):\n",
    "        stripped_lines = strip_section_markers(item['lyrics'])\n",
    "        tokenized_lines = tokenize(stripped_lines, lowercase=True, strip_chars='.,!)\\(')\n",
    "        item['tokens'] = tokenized_lines"
   ]
  },
  {
   "cell_type": "code",
   "execution_count": 27,
   "metadata": {},
   "outputs": [],
   "source": [
    "for x in range(len(raw_era_3)):\n",
    "    song_1 = raw_era_3[x]['tokens']\n",
    "    raw_era_3[x]['tokens'] = [x.replace('-',' ') for x in song_1]"
   ]
  },
  {
   "cell_type": "code",
   "execution_count": 28,
   "metadata": {},
   "outputs": [],
   "source": [
    "import json\n",
    "with open('clean_era_3.json', 'w') as f:\n",
    "    json.dump(raw_era_3, f)"
   ]
  }
 ],
 "metadata": {
  "kernelspec": {
   "display_name": "Python 3",
   "language": "python",
   "name": "python3"
  },
  "language_info": {
   "codemirror_mode": {
    "name": "ipython",
    "version": 3
   },
   "file_extension": ".py",
   "mimetype": "text/x-python",
   "name": "python",
   "nbconvert_exporter": "python",
   "pygments_lexer": "ipython3",
   "version": "3.7.3"
  }
 },
 "nbformat": 4,
 "nbformat_minor": 2
}
