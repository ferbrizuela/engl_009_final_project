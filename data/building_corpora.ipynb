{
 "cells": [
  {
   "cell_type": "code",
   "execution_count": 2,
   "metadata": {},
   "outputs": [],
   "source": [
    "MY_CLIENT_ACCESS_TOKEN='kIxslNWGiBDNbLQXy42-pBi5_Jkz-bWJxGHgNtF21l_85eW90KD2Gn9P-D3j-kVZ'"
   ]
  },
  {
   "cell_type": "code",
   "execution_count": 3,
   "metadata": {},
   "outputs": [],
   "source": [
    "import lyricsgenius\n",
    "\n",
    "from bs4 import BeautifulSoup\n",
    "\n",
    "import json\n",
    "import os\n",
    "\n",
    "from collections import Counter"
   ]
  },
  {
   "cell_type": "code",
   "execution_count": 4,
   "metadata": {},
   "outputs": [],
   "source": [
    "genius = lyricsgenius.Genius(MY_CLIENT_ACCESS_TOKEN)"
   ]
  },
  {
   "cell_type": "code",
   "execution_count": 5,
   "metadata": {},
   "outputs": [],
   "source": [
    "%run functions.ipynb"
   ]
  },
  {
   "cell_type": "markdown",
   "metadata": {},
   "source": [
    "### I will be creating my corpora of Taylor Swift lyrics. The albums will be divided into 3 eras:\n",
    "* Era 1: Taylor Swift, Fearless, and Speak Now\n",
    "* Era 2: Red, 1989, Reputation, and Lover\n",
    "* Era 3: folklore and evermore\n",
    "<br> For transparency, some songs were removed from the corpus because the lyrics were unusual, such as including lyrics in other languages.\n",
    "\n",
    "<br> The Genius API returns a list of dictionaries, which have some unnecessary information. For simplicity, I will only keep the information on song title and lyrics.\n",
    "__In this notebook, I will be building my corpora (3 main data files divided into \"eras\") using the Genius API__"
   ]
  },
  {
   "cell_type": "markdown",
   "metadata": {},
   "source": [
    "## Building Era 1"
   ]
  },
  {
   "cell_type": "code",
   "execution_count": 6,
   "metadata": {},
   "outputs": [
    {
     "name": "stdout",
     "output_type": "stream",
     "text": [
      "Searching for \"Tim McGraw\" by Taylor Swift...\n",
      "Done.\n",
      "Searching for \"Picture to Burn\" by Taylor Swift...\n",
      "Done.\n",
      "Searching for \"Teardrops on My Guitar\" by Taylor Swift...\n",
      "Done.\n",
      "Searching for \"A Place In This World\" by Taylor Swift...\n",
      "Done.\n",
      "Searching for \"Cold as You\" by Taylor Swift...\n",
      "Done.\n",
      "Searching for \"The Outside\" by Taylor Swift...\n",
      "Done.\n",
      "Searching for \"Tied Together with a Smile\" by Taylor Swift...\n",
      "Done.\n",
      "Searching for \"Stay Beautiful\" by Taylor Swift...\n",
      "Done.\n",
      "Searching for \"Shoul've Said No\" by Taylor Swift...\n",
      "Done.\n",
      "Searching for \"Mary's Song (Oh My My My)\" by Taylor Swift...\n",
      "Done.\n",
      "Searching for \"Our Song\" by Taylor Swift...\n",
      "Done.\n",
      "Searching for \"I'm Only Me When I'm With You\" by Taylor Swift...\n",
      "Done.\n",
      "Searching for \"Invisible\" by Taylor Swift...\n",
      "Done.\n",
      "Searching for \"A Perfectly Good Heart\" by Taylor Swift...\n",
      "Done.\n"
     ]
    }
   ],
   "source": [
    "titles = [\"Tim McGraw\",\"Picture to Burn\",\"Teardrops on My Guitar\",\"A Place In This World\",\"Cold as You\",\n",
    "         \"The Outside\",\"Tied Together with a Smile\",\"Stay Beautiful\",\"Shoul've Said No\",\n",
    "         \"Mary's Song (Oh My My My)\",\"Our Song\",\"I'm Only Me When I'm With You\",\"Invisible\",\"A Perfectly Good Heart\"]\n",
    "taylor_swift = []\n",
    "\n",
    "for title in titles: \n",
    "    song=genius.search_song(title,'Taylor Swift')\n",
    "    dict_1 = song.to_dict()\n",
    "    dict_1['artist']=song.artist\n",
    "    taylor_swift.append(dict_1)"
   ]
  },
  {
   "cell_type": "code",
   "execution_count": 8,
   "metadata": {},
   "outputs": [
    {
     "data": {
      "text/plain": [
       "{'_type': 'song',\n",
       " 'annotation_count': 12,\n",
       " 'api_path': '/songs/132077',\n",
       " 'artist': 'Taylor Swift',\n",
       " 'full_title': 'Tim McGraw by\\xa0Taylor\\xa0Swift',\n",
       " 'header_image_thumbnail_url': 'https://images.genius.com/5d882614c1902d9f4ed44847dac82537.300x300x1.jpg',\n",
       " 'header_image_url': 'https://images.genius.com/5d882614c1902d9f4ed44847dac82537.900x900x1.jpg',\n",
       " 'id': 132077,\n",
       " 'instrumental': False,\n",
       " 'lyrics': '[Verse 1]\\nHe said the way my blue eyes shined\\nPut those Georgia stars to shame that night\\nI said, \"That\\'s a lie\"\\nJust a boy in a Chevy truck\\nThat had a tendency of gettin\\' stuck\\nOn backroads at night\\nAnd I was right there beside him all summer long\\nAnd then the time we woke up to find that summer gone\\n\\n[Chorus]\\nBut when you think Tim McGraw\\nI hope you think my favorite song\\nThe one we danced to all night long\\nThe moon like a spotlight on the lake\\nWhen you think happiness\\nI hope you think that little black dress\\nThink of my head on your chest\\nAnd my old faded blue jeans\\nWhen you think Tim McGraw\\nI hope you think of me\\n\\n[Verse 2]\\nSeptember saw a month of tears\\nAnd thankin\\' God that you weren\\'t here\\nTo see me like that\\nBut in a box beneath my bed\\nIs a letter that you never read\\nFrom three summers back\\nIt\\'s hard not to find it all a little bittersweet\\nAnd lookin\\' back on all of that, it\\'s nice to believe\\n\\n[Chorus]\\nWhen you think Tim McGraw\\nI hope you think my favorite song\\nThe one we danced to all night long\\nThe moon like a spotlight on the lake\\nWhen you think happiness\\nI hope you think that little black dress\\nThink of my head on your chest\\nAnd my old faded blue jeans\\nWhen you think Tim McGraw\\nI hope you think of me\\n\\n[Bridge]\\nAnd I\\'m back for the first time since then\\nI\\'m standin\\' on your street\\nAnd there\\'s a letter left on your doorstep\\nAnd the first thing that you\\'ll read is:\\n\"When you think Tim McGraw\\nI hope you think my favorite song\\nSomeday you\\'ll turn your radio on\\nI hope it takes you back to that place\"\\n\\n[Chorus]\\nWhen you think happiness\\nI hope you think that little black dress\\nThink of my head on your chest\\nAnd my old faded blue jeans\\nWhen you think Tim McGraw\\nI hope you think of me\\nOh, think of me\\nMmmm\\n\\n[Outro]\\nHe said the way my blue eyes shine\\nPut those Georgia stars to shame that night\\nI said, \"That\\'s a lie\"',\n",
       " 'lyrics_owner_id': 134437,\n",
       " 'lyrics_state': 'complete',\n",
       " 'lyrics_updated_at': 1599710282,\n",
       " 'path': '/Taylor-swift-tim-mcgraw-lyrics',\n",
       " 'primary_artist': {'_type': 'artist',\n",
       "  'api_path': '/artists/1177',\n",
       "  'header_image_url': 'https://images.genius.com/382ebc39e763a6d7b5fa7a2312d14905.1000x333x1.jpg',\n",
       "  'id': 1177,\n",
       "  'image_url': 'https://images.genius.com/3c1f124fcbbc2857a95e513fb34cc5a8.400x400x1.jpg',\n",
       "  'index_character': 't',\n",
       "  'iq': 1540,\n",
       "  'is_meme_verified': True,\n",
       "  'is_verified': True,\n",
       "  'name': 'Taylor Swift',\n",
       "  'slug': 'Taylor-swift',\n",
       "  'url': 'https://genius.com/artists/Taylor-swift'},\n",
       " 'pyongs_count': 22,\n",
       " 'song_art_image_thumbnail_url': 'https://images.genius.com/2edcc7b0d876e5ef82538fbd3344a725.300x300x1.jpg',\n",
       " 'song_art_image_url': 'https://images.genius.com/2edcc7b0d876e5ef82538fbd3344a725.953x953x1.jpg',\n",
       " 'song_art_primary_color': '#ddb150',\n",
       " 'song_art_secondary_color': '#a3d8f0',\n",
       " 'song_art_text_color': '#000',\n",
       " 'stats': {'hot': False, 'pageviews': 80469, 'unreviewed_annotations': 0},\n",
       " 'title': 'Tim McGraw',\n",
       " 'title_with_featured': 'Tim McGraw',\n",
       " 'updated_by_human_at': 1614740006,\n",
       " 'url': 'https://genius.com/Taylor-swift-tim-mcgraw-lyrics'}"
      ]
     },
     "execution_count": 8,
     "metadata": {},
     "output_type": "execute_result"
    }
   ],
   "source": [
    "taylor_swift[0]"
   ]
  },
  {
   "cell_type": "code",
   "execution_count": 6,
   "metadata": {},
   "outputs": [],
   "source": [
    "key_list = list(dict_1.keys())\n",
    "key_list.remove('lyrics')\n",
    "key_list.remove('title')"
   ]
  },
  {
   "cell_type": "code",
   "execution_count": 7,
   "metadata": {},
   "outputs": [],
   "source": [
    "for song in taylor_swift:\n",
    "    for x in key_list:\n",
    "        if x in song:\n",
    "            del song[x]"
   ]
  },
  {
   "cell_type": "code",
   "execution_count": 17,
   "metadata": {},
   "outputs": [
    {
     "name": "stdout",
     "output_type": "stream",
     "text": [
      "Searching for \"Fearless\" by Taylor Swift...\n",
      "Done.\n",
      "Searching for \"Fifteen\" by Taylor Swift...\n",
      "Done.\n",
      "Searching for \"Love Story\" by Taylor Swift...\n",
      "Done.\n",
      "Searching for \"Hey Stephen\" by Taylor Swift...\n",
      "Done.\n",
      "Searching for \"White Horse\" by Taylor Swift...\n",
      "Done.\n",
      "Searching for \"You Belong With Me\" by Taylor Swift...\n",
      "Done.\n",
      "Searching for \"Tell Me Why\" by Taylor Swift...\n",
      "Done.\n",
      "Searching for \"You're Not Sorry\" by Taylor Swift...\n",
      "Done.\n",
      "Searching for \"The Way I Loved You\" by Taylor Swift...\n",
      "Done.\n",
      "Searching for \"Forever & Always\" by Taylor Swift...\n",
      "Done.\n",
      "Searching for \"The Best Day\" by Taylor Swift...\n",
      "Done.\n",
      "Searching for \"Change\" by Taylor Swift...\n",
      "Done.\n"
     ]
    }
   ],
   "source": [
    "titles = [\"Fearless\",\"Fifteen\",\"Love Story\",\"Hey Stephen\",\"White Horse\",\"You Belong With Me\",\n",
    "         \"Tell Me Why\",\"You're Not Sorry\",\"The Way I Loved You\",\n",
    "         \"Forever & Always\",\"The Best Day\",\"Change\"]\n",
    "fearless = []\n",
    "\n",
    "for title in titles: \n",
    "    song=genius.search_song(title,'Taylor Swift')\n",
    "    dict_2 = song.to_dict()\n",
    "    dict_2['artist']=song.artist\n",
    "    fearless.append(dict_2)"
   ]
  },
  {
   "cell_type": "code",
   "execution_count": 10,
   "metadata": {},
   "outputs": [],
   "source": [
    "for song in fearless:\n",
    "    for x in key_list:\n",
    "        if x in song:\n",
    "            del song[x]"
   ]
  },
  {
   "cell_type": "code",
   "execution_count": 11,
   "metadata": {},
   "outputs": [
    {
     "name": "stdout",
     "output_type": "stream",
     "text": [
      "Searching for \"Mine\" by Taylor Swift...\n",
      "Done.\n",
      "Searching for \"Sparks Fly\" by Taylor Swift...\n",
      "Done.\n",
      "Searching for \"Back to December\" by Taylor Swift...\n",
      "Done.\n",
      "Searching for \"Speak Now\" by Taylor Swift...\n",
      "Done.\n",
      "Searching for \"Dear John\" by Taylor Swift...\n",
      "Done.\n",
      "Searching for \"Mean\" by Taylor Swift...\n",
      "Done.\n",
      "Searching for \"The Story of Us\" by Taylor Swift...\n",
      "Done.\n",
      "Searching for \"Never Grow Up\" by Taylor Swift...\n",
      "Done.\n",
      "Searching for \"Enchanted\" by Taylor Swift...\n",
      "Done.\n",
      "Searching for \"Better Than Revenge\" by Taylor Swift...\n",
      "Done.\n",
      "Searching for \"Innocent\" by Taylor Swift...\n",
      "Done.\n",
      "Searching for \"Haunted\" by Taylor Swift...\n",
      "Done.\n",
      "Searching for \"Last Kiss\" by Taylor Swift...\n",
      "Done.\n",
      "Searching for \"Long Live\" by Taylor Swift...\n",
      "Done.\n",
      "Searching for \"Ours\" by Taylor Swift...\n",
      "Done.\n",
      "Searching for \"If This Was a Movie\" by Taylor Swift...\n",
      "Done.\n",
      "Searching for \"Superman\" by Taylor Swift...\n",
      "Done.\n"
     ]
    }
   ],
   "source": [
    "titles = [\"Mine\",\"Sparks Fly\",\"Back to December\",\"Speak Now\",\"Dear John\",\"Mean\",\"The Story of Us\",\n",
    "         \"Never Grow Up\",\"Enchanted\",\"Better Than Revenge\",\"Innocent\",\"Haunted\",\"Last Kiss\",\n",
    "         \"Long Live\",\"Ours\",\"If This Was a Movie\",\"Superman\"]\n",
    "speak_now = []\n",
    "\n",
    "for title in titles: \n",
    "    song=genius.search_song(title,'Taylor Swift')\n",
    "    dict_3 = song.to_dict()\n",
    "    dict_3['artist']=song.artist\n",
    "    speak_now.append(dict_3)"
   ]
  },
  {
   "cell_type": "code",
   "execution_count": 12,
   "metadata": {},
   "outputs": [],
   "source": [
    "for song in speak_now:\n",
    "    for x in key_list:\n",
    "        if x in song:\n",
    "            del song[x]"
   ]
  },
  {
   "cell_type": "code",
   "execution_count": 13,
   "metadata": {},
   "outputs": [],
   "source": [
    "era_1 = taylor_swift + fearless + speak_now"
   ]
  },
  {
   "cell_type": "code",
   "execution_count": 14,
   "metadata": {},
   "outputs": [],
   "source": [
    "import json\n",
    "with open('era_1.json', 'w') as f:\n",
    "    json.dump(era_1, f)"
   ]
  },
  {
   "cell_type": "markdown",
   "metadata": {},
   "source": [
    "## Building Era 2"
   ]
  },
  {
   "cell_type": "code",
   "execution_count": 15,
   "metadata": {},
   "outputs": [
    {
     "name": "stdout",
     "output_type": "stream",
     "text": [
      "Searching for \"State of Grace\" by Taylor Swift...\n",
      "Done.\n",
      "Searching for \"Red\" by Taylor Swift...\n",
      "Done.\n",
      "Searching for \"Treacherous\" by Taylor Swift...\n",
      "Done.\n",
      "Searching for \"I Knew You Were Trouble\" by Taylor Swift...\n",
      "Done.\n",
      "Searching for \"All Too Well\" by Taylor Swift...\n",
      "Done.\n",
      "Searching for \"22\" by Taylor Swift...\n",
      "Done.\n",
      "Searching for \"I Almost Do\" by Taylor Swift...\n",
      "Done.\n",
      "Searching for \"We Are Never Ever Getting Back Together\" by Taylor Swift...\n",
      "Done.\n",
      "Searching for \"Stay Stay Stay\" by Taylor Swift...\n",
      "Done.\n",
      "Searching for \"The Last Time (Ft. Gary Lightbody)\" by Taylor Swift...\n",
      "Done.\n",
      "Searching for \"Holy Ground\" by Taylor Swift...\n",
      "Done.\n",
      "Searching for \"Sad Beautiful Tragic\" by Taylor Swift...\n",
      "Done.\n",
      "Searching for \"The Lucky One\" by Taylor Swift...\n",
      "Done.\n",
      "Searching for \"Everything Has Changed (Ft. Ed Sheeran)\" by Taylor Swift...\n",
      "Done.\n",
      "Searching for \"Starlight\" by Taylor Swift...\n",
      "Done.\n",
      "Searching for \"Begin Again\" by Taylor Swift...\n",
      "Done.\n",
      "Searching for \"The Moment I Knew\" by Taylor Swift...\n",
      "Done.\n",
      "Searching for \"Come Back... Be Here\" by Taylor Swift...\n",
      "Done.\n",
      "Searching for \"Girl at Home\" by Taylor Swift...\n",
      "Done.\n"
     ]
    }
   ],
   "source": [
    "titles = [\"State of Grace\",\"Red\",\"Treacherous\",\"I Knew You Were Trouble\",\"All Too Well\",\"22\",\"I Almost Do\",\n",
    "         \"We Are Never Ever Getting Back Together\",\"Stay Stay Stay\",\"The Last Time (Ft. Gary Lightbody)\",\n",
    "         \"Holy Ground\",\"Sad Beautiful Tragic\",\"The Lucky One\",\"Everything Has Changed (Ft. Ed Sheeran)\",\n",
    "         \"Starlight\",\"Begin Again\",\"The Moment I Knew\",\"Come Back... Be Here\",\"Girl at Home\"]\n",
    "red = []\n",
    "\n",
    "for title in titles: \n",
    "    song=genius.search_song(title,'Taylor Swift')\n",
    "    dict_1 = song.to_dict()\n",
    "    dict_1['artist']=song.artist\n",
    "    red.append(dict_1)"
   ]
  },
  {
   "cell_type": "code",
   "execution_count": 17,
   "metadata": {},
   "outputs": [],
   "source": [
    "for song in red:\n",
    "    for x in key_list:\n",
    "        if x in song:\n",
    "            del song[x]"
   ]
  },
  {
   "cell_type": "code",
   "execution_count": 20,
   "metadata": {},
   "outputs": [
    {
     "name": "stdout",
     "output_type": "stream",
     "text": [
      "Searching for \"Welcome to New York\" by Taylor Swift...\n",
      "Done.\n",
      "Searching for \"Blank Space\" by Taylor Swift...\n",
      "Done.\n",
      "Searching for \"Style\" by Taylor Swift...\n",
      "Done.\n",
      "Searching for \"Out of the Woods\" by Taylor Swift...\n",
      "Done.\n",
      "Searching for \"All You Had to Do Was Stay\" by Taylor Swift...\n",
      "Done.\n",
      "Searching for \"Shake It Off\" by Taylor Swift...\n",
      "Done.\n",
      "Searching for \"I Wish You Would\" by Taylor Swift...\n",
      "Done.\n",
      "Searching for \"Bad Blood\" by Taylor Swift...\n",
      "Done.\n",
      "Searching for \"Wildest Dreams\" by Taylor Swift...\n",
      "Done.\n",
      "Searching for \"How You Get the Girl\" by Taylor Swift...\n",
      "Done.\n",
      "Searching for \"This Love\" by Taylor Swift...\n",
      "Done.\n",
      "Searching for \"I Know Places\" by Taylor Swift...\n",
      "Done.\n",
      "Searching for \"Clean\" by Taylor Swift...\n",
      "Done.\n",
      "Searching for \"Wonderland\" by Taylor Swift...\n",
      "Done.\n",
      "Searching for \"You Are in Love\" by Taylor Swift...\n",
      "Done.\n",
      "Searching for \"New Romantics\" by Taylor Swift...\n",
      "Done.\n"
     ]
    }
   ],
   "source": [
    "titles = [\"Welcome to New York\",\"Blank Space\",\"Style\",\"Out of the Woods\",\"All You Had to Do Was Stay\",\n",
    "         \"Shake It Off\",\"I Wish You Would\",\"Bad Blood\",\"Wildest Dreams\",\"How You Get the Girl\",\n",
    "         \"This Love\",\"I Know Places\",\"Clean\",\"Wonderland\",\"You Are in Love\",\"New Romantics\"]\n",
    "album_1989 = []\n",
    "\n",
    "for title in titles: \n",
    "    song=genius.search_song(title,'Taylor Swift')\n",
    "    dict_2 = song.to_dict()\n",
    "    dict_2['artist']=song.artist\n",
    "    album_1989.append(dict_2)"
   ]
  },
  {
   "cell_type": "code",
   "execution_count": 21,
   "metadata": {},
   "outputs": [],
   "source": [
    "for song in album_1989:\n",
    "    for x in key_list:\n",
    "        if x in song:\n",
    "            del song[x]"
   ]
  },
  {
   "cell_type": "code",
   "execution_count": 22,
   "metadata": {},
   "outputs": [
    {
     "name": "stdout",
     "output_type": "stream",
     "text": [
      "Searching for \"...Ready for It?\" by Taylor Swift...\n",
      "Done.\n",
      "Searching for \"I Did Something Bad\" by Taylor Swift...\n",
      "Done.\n",
      "Searching for \"Don't Blame Me\" by Taylor Swift...\n",
      "Done.\n",
      "Searching for \"Delicate\" by Taylor Swift...\n",
      "Done.\n",
      "Searching for \"Look What You Made Me Do\" by Taylor Swift...\n",
      "Done.\n",
      "Searching for \"So It Goes...\" by Taylor Swift...\n",
      "Done.\n",
      "Searching for \"Getaway Car\" by Taylor Swift...\n",
      "Done.\n",
      "Searching for \"King of My Heart\" by Taylor Swift...\n",
      "Done.\n",
      "Searching for \"Dancing With Our Hands Tied\" by Taylor Swift...\n",
      "Done.\n",
      "Searching for \"Dress\" by Taylor Swift...\n",
      "Done.\n",
      "Searching for \"This Is Why We Can't Have Nice Things\" by Taylor Swift...\n",
      "Done.\n",
      "Searching for \"Call It What You Want\" by Taylor Swift...\n",
      "Done.\n",
      "Searching for \"New Year's Day\" by Taylor Swift...\n",
      "Done.\n"
     ]
    }
   ],
   "source": [
    "titles = [\"...Ready for It?\",\"I Did Something Bad\",\"Don't Blame Me\",\n",
    "         \"Delicate\",\"Look What You Made Me Do\",\"So It Goes...\",\"Getaway Car\",\"King of My Heart\",\n",
    "         \"Dancing With Our Hands Tied\",\"Dress\",\"This Is Why We Can't Have Nice Things\",\"Call It What You Want\",\n",
    "         \"New Year's Day\"]\n",
    "reputation = []\n",
    "\n",
    "for title in titles: \n",
    "    song=genius.search_song(title,'Taylor Swift')\n",
    "    dict_3 = song.to_dict()\n",
    "    dict_3['artist']=song.artist\n",
    "    reputation.append(dict_3)"
   ]
  },
  {
   "cell_type": "code",
   "execution_count": 23,
   "metadata": {},
   "outputs": [],
   "source": [
    "for song in reputation:\n",
    "    for x in key_list:\n",
    "        if x in song:\n",
    "            del song[x]"
   ]
  },
  {
   "cell_type": "code",
   "execution_count": 25,
   "metadata": {},
   "outputs": [
    {
     "name": "stdout",
     "output_type": "stream",
     "text": [
      "Searching for \"I Forgot That You Existed\" by Taylor Swift...\n",
      "Done.\n",
      "Searching for \"Cruel Summer\" by Taylor Swift...\n",
      "Done.\n",
      "Searching for \"Lover\" by Taylor Swift...\n",
      "Done.\n",
      "Searching for \"The Man\" by Taylor Swift...\n",
      "Done.\n",
      "Searching for \"The Archer\" by Taylor Swift...\n",
      "Done.\n",
      "Searching for \"I Think He Knows\" by Taylor Swift...\n",
      "Done.\n",
      "Searching for \"Miss Americana & The Heartbreak Prince\" by Taylor Swift...\n",
      "Done.\n",
      "Searching for \"Paper Rings\" by Taylor Swift...\n",
      "Done.\n",
      "Searching for \"Cornelia Street\" by Taylor Swift...\n",
      "Done.\n",
      "Searching for \"Death by a Thousand Cuts\" by Taylor Swift...\n",
      "Done.\n",
      "Searching for \"London Boy\" by Taylor Swift...\n",
      "Done.\n",
      "Searching for \"Soon You'll Get Better (Ft. The Chicks)\" by Taylor Swift...\n",
      "Done.\n",
      "Searching for \"False God\" by Taylor Swift...\n",
      "Done.\n",
      "Searching for \"You Need To Calm Down\" by Taylor Swift...\n",
      "Done.\n",
      "Searching for \"Afterglow\" by Taylor Swift...\n",
      "Done.\n",
      "Searching for \"It's Nice to Have a Friend\" by Taylor Swift...\n",
      "Done.\n",
      "Searching for \"Daylight\" by Taylor Swift...\n",
      "Done.\n"
     ]
    }
   ],
   "source": [
    "titles = [\"I Forgot That You Existed\",\"Cruel Summer\",\"Lover\",\"The Man\",\"The Archer\",\"I Think He Knows\",\n",
    "         \"Miss Americana & The Heartbreak Prince\",\"Paper Rings\",\"Cornelia Street\",\"Death by a Thousand Cuts\",\n",
    "         \"London Boy\",\"Soon You'll Get Better (Ft. The Chicks)\",\"False God\",\"You Need To Calm Down\",\"Afterglow\",\n",
    "         \"It's Nice to Have a Friend\",\"Daylight\"]\n",
    "lover = []\n",
    "\n",
    "for title in titles: \n",
    "    song=genius.search_song(title,'Taylor Swift')\n",
    "    dict_4 = song.to_dict()\n",
    "    dict_4['artist']=song.artist\n",
    "    lover.append(dict_4)"
   ]
  },
  {
   "cell_type": "code",
   "execution_count": 26,
   "metadata": {},
   "outputs": [],
   "source": [
    "for song in lover:\n",
    "    for x in key_list:\n",
    "        if x in song:\n",
    "            del song[x]"
   ]
  },
  {
   "cell_type": "code",
   "execution_count": 27,
   "metadata": {},
   "outputs": [],
   "source": [
    "era_2 = red + album_1989 + reputation + lover"
   ]
  },
  {
   "cell_type": "code",
   "execution_count": 28,
   "metadata": {},
   "outputs": [],
   "source": [
    "import json\n",
    "with open('era_2.json', 'w') as f:\n",
    "    json.dump(era_2, f)"
   ]
  },
  {
   "cell_type": "markdown",
   "metadata": {},
   "source": [
    "## Building Era 3"
   ]
  },
  {
   "cell_type": "code",
   "execution_count": 29,
   "metadata": {},
   "outputs": [
    {
     "name": "stdout",
     "output_type": "stream",
     "text": [
      "Searching for \"the 1\" by Taylor Swift...\n",
      "Done.\n",
      "Searching for \"cardigan\" by Taylor Swift...\n",
      "Done.\n",
      "Searching for \"the last great american dynasty\" by Taylor Swift...\n",
      "Done.\n",
      "Searching for \"my tears ricochet\" by Taylor Swift...\n",
      "Done.\n",
      "Searching for \"mirrorball\" by Taylor Swift...\n",
      "Done.\n",
      "Searching for \"seven\" by Taylor Swift...\n",
      "Done.\n",
      "Searching for \"august\" by Taylor Swift...\n",
      "Done.\n",
      "Searching for \"this is me trying\" by Taylor Swift...\n",
      "Done.\n",
      "Searching for \"illicit affairs\" by Taylor Swift...\n",
      "Done.\n",
      "Searching for \"invisible string\" by Taylor Swift...\n",
      "Done.\n",
      "Searching for \"mad woman\" by Taylor Swift...\n",
      "Done.\n",
      "Searching for \"epiphany\" by Taylor Swift...\n",
      "Done.\n",
      "Searching for \"betty\" by Taylor Swift...\n",
      "Done.\n",
      "Searching for \"peace\" by Taylor Swift...\n",
      "Done.\n",
      "Searching for \"hoax\" by Taylor Swift...\n",
      "Done.\n"
     ]
    }
   ],
   "source": [
    "titles = [\"the 1\",\"cardigan\",\"the last great american dynasty\",\"my tears ricochet\",\n",
    "         \"mirrorball\",\"seven\",\"august\",\"this is me trying\",\"illicit affairs\",\"invisible string\",\n",
    "         \"mad woman\",\"epiphany\",\"betty\",\"peace\",\"hoax\"]\n",
    "folklore = []\n",
    "\n",
    "for title in titles: \n",
    "    song=genius.search_song(title,'Taylor Swift')\n",
    "    dict_1 = song.to_dict()\n",
    "    dict_1['artist']=song.artist\n",
    "    folklore.append(dict_1)"
   ]
  },
  {
   "cell_type": "code",
   "execution_count": 32,
   "metadata": {},
   "outputs": [],
   "source": [
    "for song in folklore:\n",
    "    for x in key_list:\n",
    "        if x in song:\n",
    "            del song[x]"
   ]
  },
  {
   "cell_type": "code",
   "execution_count": 33,
   "metadata": {},
   "outputs": [
    {
     "name": "stdout",
     "output_type": "stream",
     "text": [
      "Searching for \"willow\" by Taylor Swift...\n",
      "Done.\n",
      "Searching for \"champagne problems\" by Taylor Swift...\n",
      "Done.\n",
      "Searching for \"gold rush\" by Taylor Swift...\n",
      "Done.\n",
      "Searching for \"'tis the damn season\" by Taylor Swift...\n",
      "Done.\n",
      "Searching for \"tolerate it\" by Taylor Swift...\n",
      "Done.\n",
      "Searching for \"happiness\" by Taylor Swift...\n",
      "Done.\n",
      "Searching for \"dorothea\" by Taylor Swift...\n",
      "Done.\n",
      "Searching for \"ivy\" by Taylor Swift...\n",
      "Done.\n",
      "Searching for \"cowboy like me\" by Taylor Swift...\n",
      "Done.\n",
      "Searching for \"marjorie\" by Taylor Swift...\n",
      "Done.\n",
      "Searching for \"closure\" by Taylor Swift...\n",
      "Done.\n",
      "Searching for \"it's time to go\" by Taylor Swift...\n",
      "Done.\n"
     ]
    }
   ],
   "source": [
    "titles = [\"willow\",\"champagne problems\",\"gold rush\",\"'tis the damn season\",\"tolerate it\",\n",
    "         \"happiness\",\"dorothea\",\n",
    "         \"ivy\",\"cowboy like me\",\"marjorie\",\"closure\",\"it's time to go\"]\n",
    "evermore = []\n",
    "\n",
    "for title in titles: \n",
    "    song=genius.search_song(title,'Taylor Swift')\n",
    "    dict_2 = song.to_dict()\n",
    "    dict_2['artist']=song.artist\n",
    "    evermore.append(dict_2)"
   ]
  },
  {
   "cell_type": "code",
   "execution_count": 34,
   "metadata": {},
   "outputs": [],
   "source": [
    "for song in evermore:\n",
    "    for x in key_list:\n",
    "        if x in song:\n",
    "            del song[x]"
   ]
  },
  {
   "cell_type": "code",
   "execution_count": 35,
   "metadata": {},
   "outputs": [],
   "source": [
    "era_3 = folklore + evermore"
   ]
  },
  {
   "cell_type": "code",
   "execution_count": 37,
   "metadata": {},
   "outputs": [],
   "source": [
    "import json\n",
    "with open('era_3.json', 'w') as f:\n",
    "    json.dump(era_3, f)"
   ]
  },
  {
   "cell_type": "code",
   "execution_count": null,
   "metadata": {},
   "outputs": [],
   "source": []
  }
 ],
 "metadata": {
  "kernelspec": {
   "display_name": "Python 3",
   "language": "python",
   "name": "python3"
  },
  "language_info": {
   "codemirror_mode": {
    "name": "ipython",
    "version": 3
   },
   "file_extension": ".py",
   "mimetype": "text/x-python",
   "name": "python",
   "nbconvert_exporter": "python",
   "pygments_lexer": "ipython3",
   "version": "3.7.3"
  }
 },
 "nbformat": 4,
 "nbformat_minor": 2
}
